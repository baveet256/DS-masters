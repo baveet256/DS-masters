{
 "cells": [
  {
   "attachments": {},
   "cell_type": "markdown",
   "metadata": {},
   "source": [
    "## Q1"
   ]
  },
  {
   "cell_type": "code",
   "execution_count": 31,
   "metadata": {},
   "outputs": [],
   "source": [
    "a = [1,2,3,4, [44,55,66, True], False, (34,56,78,89,34), {1,2,3,3,2,1}, {1:34, \"key2\": [55, 67, 78, 89], 4: (45,\n",
    "22, 61, 34)}, [56, 'data science'], 'Machine Learning']\n",
    "pdt=1\n",
    "for i in a:\n",
    "    if type(i)==int:\n",
    "        pdt*=i\n",
    "    elif type(i)==list:\n",
    "        for j in i:\n",
    "            if type(j)==int:\n",
    "                pdt*=j\n",
    "    elif type(i)==tuple:\n",
    "        for j in i:\n",
    "            if type(j)==int:\n",
    "                pdt*=j\n",
    "    elif type(i)==set:\n",
    "        for j in i:\n",
    "            if type(j)==int:\n",
    "                pdt*=j           \n",
    "    elif type(i)==dict:\n",
    "        for j in i:\n",
    "            if type(j)==int:\n",
    "                pdt*=j\n",
    "            if type(i[j])==int:\n",
    "                pdt*=i[j]\n",
    "            elif type(i[j])==list:\n",
    "                for x in i[j]:\n",
    "                    if type(x)==int:\n",
    "                        pdt*=x\n",
    "            elif type(i[j])==tuple:\n",
    "                for x in i[j]:\n",
    "                    if type(x)==int:\n",
    "                        pdt*=x\n",
    "            elif type(i[j])==set:\n",
    "                for x in i[j]:\n",
    "                    if type(x)==int:\n",
    "                        pdt*=x                  \n"
   ]
  },
  {
   "cell_type": "code",
   "execution_count": 32,
   "metadata": {},
   "outputs": [
    {
     "data": {
      "text/plain": [
       "4134711838987085478833841242112000"
      ]
     },
     "execution_count": 32,
     "metadata": {},
     "output_type": "execute_result"
    }
   ],
   "source": [
    "## Duplicate values of the set are eliminated.\n",
    "pdt"
   ]
  },
  {
   "attachments": {},
   "cell_type": "markdown",
   "metadata": {},
   "source": [
    "## Q2"
   ]
  },
  {
   "cell_type": "code",
   "execution_count": 6,
   "metadata": {},
   "outputs": [
    {
     "data": {
      "text/plain": [
       "'r$dzmg$gl$yvxlnv$z$wzgz$hxrvmgrhg'"
      ]
     },
     "execution_count": 6,
     "metadata": {},
     "output_type": "execute_result"
    }
   ],
   "source": [
    "a = 'I want to become a Data Scientist'\n",
    "a = a.lower()\n",
    "b = list(a)\n",
    "n = len(a)\n",
    "for i in range(0,n):\n",
    "    if ord(b[i])==32:\n",
    "        b[i]='$'\n",
    "    else :\n",
    "        b[i] = chr(ord(b[i]) + 25 -2*(ord(b[i])-97))\n",
    "a = ''.join(b)\n",
    "a         "
   ]
  }
 ],
 "metadata": {
  "kernelspec": {
   "display_name": "Python 3",
   "language": "python",
   "name": "python3"
  },
  "language_info": {
   "codemirror_mode": {
    "name": "ipython",
    "version": 3
   },
   "file_extension": ".py",
   "mimetype": "text/x-python",
   "name": "python",
   "nbconvert_exporter": "python",
   "pygments_lexer": "ipython3",
   "version": "3.9.0"
  },
  "orig_nbformat": 4,
  "vscode": {
   "interpreter": {
    "hash": "5addf786bcd861d1ce5006f23111f8cbb206731e5b61b0a5632ba9e0252558a8"
   }
  }
 },
 "nbformat": 4,
 "nbformat_minor": 2
}
